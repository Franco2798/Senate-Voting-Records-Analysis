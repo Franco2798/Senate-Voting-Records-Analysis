{
 "cells": [
  {
   "cell_type": "code",
   "execution_count": 9,
   "id": "4d82de56-d2ee-4102-9ed4-6e3f701192d7",
   "metadata": {},
   "outputs": [],
   "source": [
    "import pandas as pd\n",
    "import numpy as np\n",
    "from scipy.spatial.distance import cosine\n",
    "import random\n"
   ]
  },
  {
   "cell_type": "code",
   "execution_count": 10,
   "id": "333c4491-05c5-4996-b6bb-4d8a47138ff4",
   "metadata": {},
   "outputs": [
    {
     "name": "stdout",
     "output_type": "stream",
     "text": [
      "\n"
     ]
    }
   ],
   "source": [
    "df = pd.read_csv('senate_votes.csv')\n",
    "# print(df.head())\n",
    "print()"
   ]
  },
  {
   "cell_type": "markdown",
   "id": "ae08ff0e-660c-4f69-a98a-76e591800806",
   "metadata": {},
   "source": [
    "## Exercise 1 - Find the senator whose voting record is closest to Rhode Island senator, Lincoln Chafee.\n"
   ]
  },
  {
   "cell_type": "code",
   "execution_count": 11,
   "id": "89bd6b8f-4704-4a10-bf01-3e3c7a8ffd2f",
   "metadata": {},
   "outputs": [
    {
     "name": "stdout",
     "output_type": "stream",
     "text": [
      "Exercise 1:\n",
      "Lincoln Chafee's closest senator is Jeffords of the state of VT, with a distance of 0.091.\n",
      "\n"
     ]
    }
   ],
   "source": [
    "print(\"Exercise 1:\")\n",
    "\n",
    "row_i = df[(df['Name'] == 'Chafee') & (df['State'] == 'RI')].iloc[:, 3:49].to_numpy().flatten()\n",
    "\n",
    "distances = []\n",
    "\n",
    "for i in range(len(df)):\n",
    "    if not(df.loc[i, 'Name'] == 'Chafee' and df.loc[i, 'State'] == 'RI'):\n",
    "        evaluated_rows = df.iloc[i, 3:49].to_numpy().flatten()\n",
    "        dis_to_row_i = cosine(row_i, evaluated_rows)\n",
    "        distances.append(dis_to_row_i)\n",
    "    else:\n",
    "        distances.append(np.inf)\n",
    "\n",
    "names = df.iloc[:, 0]\n",
    "states = df.iloc[:, 2]\n",
    "\n",
    "data_frame_1 = pd.DataFrame({\n",
    "    'Name': names,\n",
    "    'Distance': distances,\n",
    "    'State': states\n",
    "})\n",
    "\n",
    "distances_sorted = data_frame_1.sort_values('Distance')\n",
    "\n",
    "closest_senator = distances_sorted.iloc[0]['Name']\n",
    "closest_state = distances_sorted.iloc[0]['State']\n",
    "closest_distance = distances_sorted.iloc[0]['Distance']\n",
    "\n",
    "print(f\"Lincoln Chafee's closest senator is {closest_senator} of the state of {closest_state}, with a distance of {closest_distance:.3f}.\")\n",
    "print()"
   ]
  },
  {
   "cell_type": "markdown",
   "id": "68244596-ddee-47bc-abba-473691ae59ed",
   "metadata": {},
   "source": [
    "## Exercise 2 - Find the senator who disagrees most with Pennsylvania senator, Rick Santorum.\n"
   ]
  },
  {
   "cell_type": "code",
   "execution_count": 12,
   "id": "08ed3bb4-2b18-4311-b0f5-fc3abdbcc06c",
   "metadata": {},
   "outputs": [
    {
     "name": "stdout",
     "output_type": "stream",
     "text": [
      "Exercise 2:\n",
      "The senator who disagrees the most with Rick Santorum is Feingold, of the state of WI.\n",
      "\n"
     ]
    }
   ],
   "source": [
    "print(\"Exercise 2:\")\n",
    "\n",
    "row_santorum = df[(df['Name'] == 'Santorum') & (df['State'] == 'PA')].iloc[:, 3:49].to_numpy().flatten()\n",
    "\n",
    "distances_santorum = []\n",
    "\n",
    "for i in range(len(df)):\n",
    "    evaluated_rows_santorum = df.iloc[i, 3:49].to_numpy().flatten()\n",
    "    dis_to_row_santorum = cosine(row_santorum, evaluated_rows_santorum)\n",
    "    distances_santorum.append(dis_to_row_santorum)\n",
    "    \n",
    "\n",
    "data_frame_2 = pd.DataFrame({\n",
    "    'Name': names,\n",
    "    'Distance': distances_santorum,\n",
    "    'State': states\n",
    "})\n",
    "\n",
    "distances_sorted_santorum = data_frame_2.sort_values('Distance')\n",
    "\n",
    "disagree_senator = distances_sorted_santorum.iloc[-1]['Name']\n",
    "disagree_state = distances_sorted_santorum.iloc[-1]['State']\n",
    "\n",
    "print(f\"The senator who disagrees the most with Rick Santorum is {disagree_senator}, of the state of {disagree_state}.\")\n",
    "print()\n"
   ]
  },
  {
   "cell_type": "markdown",
   "id": "60774dcb-e390-461f-8cc2-733a18e98e80",
   "metadata": {},
   "source": [
    "## Exercise 3 - Choose 5 Democratic and 5 Republican (or more) senators randomly.\n"
   ]
  },
  {
   "cell_type": "code",
   "execution_count": 13,
   "id": "fe02e54c-b94a-42ba-9f65-6f147f59fafe",
   "metadata": {},
   "outputs": [
    {
     "name": "stdout",
     "output_type": "stream",
     "text": [
      "Exercise 3:\n",
      "           Name Party State\n",
      "79  Rockefeller     D    WV\n",
      "59   Lautenberg     D    NJ\n",
      "60        Leahy     D    VT\n",
      "77         Reid     D    NV\n",
      "75        Pryor     D    AR\n",
      "\n",
      "         Name Party State\n",
      "49     Inhofe     R    OK\n",
      "11  Brownback     R    KS\n",
      "51    Isakson     R    GA\n",
      "23    Coleman     R    MN\n",
      "31     DeWine     R    OH\n",
      "\n"
     ]
    }
   ],
   "source": [
    "print(\"Exercise 3:\")\n",
    "\n",
    "democrats = df[df['Party']=='D']\n",
    "republicans = df[df['Party']=='R']\n",
    "\n",
    "democrats_random = democrats.sample(5, random_state=42)\n",
    "republicans_random = republicans.sample(5, random_state=42)\n",
    "\n",
    "print(democrats_random.iloc[:, 0:3])\n",
    "print()\n",
    "print(republicans_random.iloc[:, 0:3])\n",
    "print()\n"
   ]
  },
  {
   "cell_type": "markdown",
   "id": "5a7af684-b3ae-4b81-83dc-62d98444c0e1",
   "metadata": {},
   "source": [
    "## Exercise 4 - Compare Jefford's record with each of these 10 senators. Would you classify Jeffords as closer to the Democrats or a Republicans?\n"
   ]
  },
  {
   "cell_type": "code",
   "execution_count": 14,
   "id": "1a8337c2-f714-45b2-835a-c4196b734471",
   "metadata": {},
   "outputs": [
    {
     "name": "stdout",
     "output_type": "stream",
     "text": [
      "Exercise 4:\n",
      "Comparing with 5 random senators of each party, we could clasify Jefford as closer to the democrats\n",
      "\n"
     ]
    }
   ],
   "source": [
    "print(\"Exercise 4:\")\n",
    "\n",
    "jeffords = df[df['Name'] == 'Jeffords'].iloc[:, 3:49].to_numpy().flatten()\n",
    "democrats_jeffords = democrats.iloc[:, 3:49].to_numpy()\n",
    "republicans_jeffords = republicans.iloc[:, 3:49].to_numpy()\n",
    "\n",
    "distances_dem_jef = []\n",
    "distances_rep_jef = []\n",
    "\n",
    "for i in range(len(democrats_jeffords)):\n",
    "    distance_dem_jef = cosine(jeffords, democrats_jeffords[i])\n",
    "    distances_dem_jef.append(distance_dem_jef)\n",
    "\n",
    "for i in range(len(republicans_jeffords)):\n",
    "    distance_rep_jef = cosine(jeffords, republicans_jeffords[i])\n",
    "    distances_rep_jef.append(distance_rep_jef)\n",
    "\n",
    "data_frame_3 = pd.DataFrame({\n",
    "    'Name': democrats['Name'],\n",
    "    'Distance': distances_dem_jef,\n",
    "    'State': democrats['State']\n",
    "})\n",
    "\n",
    "data_frame_4 = pd.DataFrame({\n",
    "    'Name': republicans['Name'],\n",
    "    'Distance': distances_rep_jef,\n",
    "    'State': republicans['State']\n",
    "})\n",
    "\n",
    "tot_dist_dem = data_frame_3['Distance'].sum()\n",
    "tot_dist_rep = data_frame_4['Distance'].sum()\n",
    "\n",
    "if tot_dist_dem > tot_dist_rep:\n",
    "    print(f\"Comparing with 5 random senators of each party, we could clasify Jefford as closer to the republicans\")\n",
    "else:\n",
    "    print(f\"Comparing with 5 random senators of each party, we could clasify Jefford as closer to the democrats\")\n",
    "\n",
    "print()"
   ]
  },
  {
   "cell_type": "code",
   "execution_count": null,
   "id": "e336bbd6-0beb-4326-821f-a3427e221222",
   "metadata": {},
   "outputs": [],
   "source": []
  }
 ],
 "metadata": {
  "kernelspec": {
   "display_name": "Python 3 (ipykernel)",
   "language": "python",
   "name": "python3"
  },
  "language_info": {
   "codemirror_mode": {
    "name": "ipython",
    "version": 3
   },
   "file_extension": ".py",
   "mimetype": "text/x-python",
   "name": "python",
   "nbconvert_exporter": "python",
   "pygments_lexer": "ipython3",
   "version": "3.12.6"
  }
 },
 "nbformat": 4,
 "nbformat_minor": 5
}
